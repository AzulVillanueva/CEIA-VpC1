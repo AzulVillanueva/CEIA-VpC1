{
 "cells": [
  {
   "cell_type": "markdown",
   "metadata": {},
   "source": [
    "# CEIA - VISIÓN POR COMPUTADORA\n",
    "## TP2 - Integrantes\n",
    "###\n",
    "* Ruiz Otondo, Juan\n",
    "* Torres, Dimas\n",
    "* Villanueva, Cecilia Azul"
   ]
  },
  {
   "cell_type": "markdown",
   "metadata": {},
   "source": [
    "## Librerias y funciones"
   ]
  },
  {
   "cell_type": "code",
   "execution_count": null,
   "metadata": {},
   "outputs": [],
   "source": [
    "%matplotlib inline\n",
    "\n",
    "import numpy as np\n",
    "import cv2 as cv\n",
    "import matplotlib.pyplot as plt"
   ]
  },
  {
   "cell_type": "markdown",
   "metadata": {},
   "source": [
    "##### Funciones"
   ]
  },
  {
   "cell_type": "code",
   "execution_count": null,
   "metadata": {},
   "outputs": [],
   "source": [
    "def drawFrameNum(img, num, c, s):\n",
    "    \"\"\"\n",
    "    Agrega el número de frame\n",
    "    \"\"\"\n",
    "    cv.putText(img, f'FRAME {num}', (30, 30), cv.FONT_HERSHEY_SIMPLEX, s, c, 2, cv.LINE_AA)\n",
    "\n",
    "    return img"
   ]
  },
  {
   "cell_type": "code",
   "execution_count": null,
   "metadata": {},
   "outputs": [],
   "source": [
    "def drawRectangle(img, pt1, pt2, c, s):\n",
    "    \"\"\"\n",
    "    Agregar rectángulo del área de interés\n",
    "    \"\"\"\n",
    "    pt2_a= tuple(x - 1 for x in pt2)\n",
    "    \n",
    "    cv.rectangle(img, pt1, pt2_a, c, s, cv.LINE_8)\n",
    "\n",
    "    return img"
   ]
  },
  {
   "cell_type": "code",
   "execution_count": null,
   "metadata": {},
   "outputs": [],
   "source": [
    "def drawMatrix(image, matrix, c , s ):\n",
    "    \"\"\"\n",
    "    Imprime la matriz de enfoque sobre la imagen dada\n",
    "  \n",
    "    'c' color de las líneas\n",
    "    's' tamaño de las líneas\n",
    "    Devuelve la imagen con la matriz dibujada\n",
    "    \"\"\"\n",
    "\n",
    "    for [(x1, y1), (x2, y2)] in matrix:\n",
    "\n",
    "        image_r = cv.rectangle(image, (x1, y1), (x2, y2), c, s, cv.LINE_8)\n",
    "       \n",
    "    return image_r"
   ]
  },
  {
   "cell_type": "code",
   "execution_count": null,
   "metadata": {
    "id": "HpUsDLa-4CqG"
   },
   "outputs": [],
   "source": [
    "# Función para mostrar una imagen\n",
    "def showImage(imagen, titulo='Imagen'):\n",
    "    plt.imshow(cv.cvtColor(imagen, cv.COLOR_BGR2RGB))\n",
    "    plt.title(titulo)\n",
    "    plt.axis('off')\n",
    "    plt.show()"
   ]
  },
  {
   "cell_type": "code",
   "execution_count": null,
   "metadata": {},
   "outputs": [],
   "source": [
    "def showMetric(metrics,percentile,title,ylabel):\n",
    "    # Calculate the threshold value\n",
    "    threshold= np.percentile(metrics, percentile)\n",
    "\n",
    "    # Plot\n",
    "    plt.figure(figsize=(10, 6))\n",
    "\n",
    "    # Focus metrics plot\n",
    "    plt.plot(metrics, marker='o', linestyle='-', color='b', label='Métricas de enfoque')\n",
    "\n",
    "    # Threshold line\n",
    "    plt.axhline(y=threshold, color='r', linestyle='--', label=f'Percentil {percentile}%')\n",
    "\n",
    "    # Frames above the threshold\n",
    "    plt.scatter([i for i, m in enumerate(metrics) if m >= threshold], \n",
    "                [m for m in metrics if m >= threshold], \n",
    "                color='g', zorder=5, label=f'Frames arriba del percentil {percentile}%')\n",
    "\n",
    "    # Title and labels\n",
    "    plt.xlabel('Frame #')\n",
    "    plt.ylabel(ylabel)\n",
    "    plt.title(title)\n",
    "    plt.legend(loc='upper left')\n",
    "\n",
    "    # show plot\n",
    "    plt.grid(True)\n",
    "    plt.show()\n"
   ]
  },
  {
   "cell_type": "code",
   "execution_count": null,
   "metadata": {},
   "outputs": [],
   "source": [
    "def getROI(image, roi_fraction=0.1):\n",
    "    # Extrae una región de interés (ROI) central que cubre una fracción dada del frame.\n",
    "    \n",
    "    height, width = image.shape\n",
    "\n",
    "    area=roi_fraction*height*width\n",
    "\n",
    "    # Calculate ROI dimensions\n",
    "    roi_width  = int(np.sqrt(area * (width / height)))\n",
    "    roi_height = int(area / roi_width)\n",
    "    \n",
    "    # Center coordinates\n",
    "    center_x, center_y = width // 2, height // 2\n",
    "    \n",
    "    # Calculate ROI bounds\n",
    "    x_start = center_x - roi_width // 2\n",
    "    y_start = center_y - roi_height // 2\n",
    "    x_end = center_x + roi_width // 2\n",
    "    y_end = center_y + roi_height // 2\n",
    "    \n",
    "    # Extract and return the ROI\n",
    "    return image[y_start:y_end, x_start:x_end],[(x_start, y_start), (x_end, y_end)]"
   ]
  },
  {
   "cell_type": "code",
   "execution_count": null,
   "metadata": {},
   "outputs": [],
   "source": [
    "def getMatrix(img, rect, matrix_dim, sep):\n",
    "    \"\"\"\n",
    "    Devuelve una lista con las coordenadas para armar la matriz de enfoque : matrix\n",
    "    Devuelve los rectángulos de la imagen que corresponden a la matriz : rect_imgs\n",
    "\n",
    "      'img_shape' : tamaño de la imagen para centrar la matriz\n",
    "            'rect': son las dimensiones de los rectángulos (Ancho-Alto) \n",
    "            'sep' : longitud de equiespaciado entre rectángulos\n",
    "      'matrix_dim': filas y columnas de la matriz NxM\n",
    "\n",
    "    \"\"\"\n",
    "\n",
    "    img_h, img_w = img.shape[:2]\n",
    "    r_w, r_h = rect\n",
    "    n, m = matrix_dim\n",
    "\n",
    "    x0, y0 = (0, 0)\n",
    "    xn, yn = (x0 + r_w * n + sep * (m-1) , y0 + r_h * n + sep * (m-1))\n",
    "\n",
    "    if xn-x0 > img_w or yn-y0 > img_h:\n",
    "        return \"Error - Dimensiones incorrectas\", _\n",
    "        \n",
    "    # Ubicar en el centro\n",
    "    x0 = (img_w - (xn-x0)) // 2\n",
    "    y0 = (img_h - (yn-y0)) // 2\n",
    "\n",
    "    matrix = []\n",
    "\n",
    "    y = y0\n",
    "\n",
    "    for r in range(1, n + 1):\n",
    "        x = x0\n",
    "        for c in range(1, m + 1):\n",
    "            matrix.append([(x, y),  (x + r_w, y + r_h)])\n",
    "            x = x + r_w + sep\n",
    "        y = y + r_h + sep\n",
    "\n",
    "    rect_imgs = []\n",
    "\n",
    "    for [(x1, y1), (x2, y2)] in matrix:\n",
    "        rect_imgs.append(img[y1:y2, x1:x2])    \n",
    "\n",
    "    \n",
    "    return matrix , rect_imgs"
   ]
  },
  {
   "cell_type": "code",
   "execution_count": null,
   "metadata": {},
   "outputs": [],
   "source": [
    "# Función para calcular la métrica de enfoque de una imagen (image_quality_measure)\n",
    "def getISM(frame_gris):\n",
    "    # Paso 1: Transformada de Fourier centrada\n",
    "    f_transformada = np.fft.fft2(frame_gris)\n",
    "    f_transformada_centrada = np.fft.fftshift(f_transformada)\n",
    "\n",
    "    # Paso 2: Obtener espectro de magnitud\n",
    "    espectro_magnitud = np.abs(f_transformada_centrada)\n",
    "\n",
    "    # Paso 3: Calcular el valor máximo y definir el umbral\n",
    "    valor_max = np.max(espectro_magnitud)\n",
    "    umbral = valor_max / 1000  # Definir umbral como M / 1000\n",
    "\n",
    "    # Paso 4: Contar los píxeles que superan el umbral\n",
    "    componentes_alta_frecuencia = np.sum(espectro_magnitud > umbral)\n",
    "\n",
    "    # Calcular la métrica de enfoque (proporción de componentes de alta frecuencia)\n",
    "    fm = componentes_alta_frecuencia / (frame_gris.shape[0] * frame_gris.shape[1])\n",
    "    return fm"
   ]
  },
  {
   "cell_type": "code",
   "execution_count": null,
   "metadata": {
    "id": "E0qvb1LMXvAF"
   },
   "outputs": [],
   "source": [
    "def getLap4(imagen, tamaño_ventana):\n",
    "    \"\"\"\n",
    "    Calcula la medida de enfoque LAP4 (varianza del Laplaciano) en una imagen.\n",
    "\n",
    "    Args:\n",
    "      imagen: La imagen de entrada en escala de grises.\n",
    "      tamaño_ventana: El tamaño de la ventana para calcular el Laplaciano (debe ser un número impar).\n",
    "\n",
    "    Returns:\n",
    "      La medida de enfoque LAP4.\n",
    "    \"\"\"\n",
    "\n",
    "    # Verificar si la imagen está en escala de grises\n",
    "    if len(imagen.shape) > 2:\n",
    "        raise ValueError(\"La imagen debe estar en escala de grises.\")\n",
    "\n",
    "    # Verificar si el tamaño de la ventana es impar\n",
    "    if tamaño_ventana % 2 == 0:\n",
    "        raise ValueError(\"El tamaño de la ventana debe ser un número impar.\")\n",
    "\n",
    "    # Calcular el Laplaciano de la imagen\n",
    "    laplaciano = cv.Laplacian(imagen, cv.CV_64F, ksize=tamaño_ventana)\n",
    "\n",
    "    # Calcular la varianza del Laplaciano en la ventana\n",
    "    varianza_laplaciano = np.var(laplaciano)\n",
    "\n",
    "    return varianza_laplaciano"
   ]
  },
  {
   "cell_type": "code",
   "execution_count": null,
   "metadata": {
    "id": "7TFwOMzE4ssU"
   },
   "outputs": [],
   "source": [
    "# Función para calcular la métrica de enfoque de un video\n",
    "def focus_measure_ism(video_path, roi_fraction):\n",
    "\n",
    "    captura_video = cv.VideoCapture(video_path)\n",
    "\n",
    "    metricas_enfoque = []  # Almacenar métricas de cada frame\n",
    "\n",
    "    if not captura_video.isOpened():\n",
    "        print(\"Error al abrir el archivo de video\")\n",
    "    else:\n",
    "        # Procesar cada frame del video\n",
    "   \n",
    "        while True:\n",
    "            ret, frame = captura_video.read()\n",
    "            if not ret:\n",
    "                break\n",
    "\n",
    "            # Convertir a escala de grises\n",
    "            frame_gris = cv.cvtColor(frame, cv.COLOR_BGR2GRAY)\n",
    "            \n",
    "            img,pts=getROI(frame_gris,roi_fraction)\n",
    "           \n",
    "            # Calcular la métrica de enfoque\n",
    "            fm = getISM(img)\n",
    "            metricas_enfoque.append(fm)\n",
    "\n",
    "    # Libera el objeto de captura de video\n",
    "    captura_video.release()\n",
    "    cv.destroyAllWindows()\n",
    "\n",
    "    return metricas_enfoque, pts"
   ]
  },
  {
   "cell_type": "code",
   "execution_count": null,
   "metadata": {},
   "outputs": [],
   "source": [
    "# Función para calcular la métrica de enfoque de un video\n",
    "def focus_measure_lap4(video_path,window_size,roi_fraction):\n",
    "\n",
    "    captura_video = cv.VideoCapture(video_path)\n",
    "\n",
    "    metricas_enfoque = []  # Almacenar métricas de cada frame\n",
    "\n",
    "    if not captura_video.isOpened():\n",
    "        print(\"Error al abrir el archivo de video\")\n",
    "    else:\n",
    "        # Procesar cada frame del video\n",
    "   \n",
    "        while True:\n",
    "            ret, frame = captura_video.read()\n",
    "            if not ret:\n",
    "                break\n",
    "\n",
    "            # Convertir a escala de grises\n",
    "            frame_gris = cv.cvtColor(frame, cv.COLOR_BGR2GRAY)\n",
    "            \n",
    "            img,pts=getROI(frame_gris,roi_fraction)\n",
    "           \n",
    "            # Calcular la métrica de enfoque\n",
    "            fm = getLap4(img,window_size)\n",
    "            metricas_enfoque.append(fm)\n",
    "\n",
    "    # Libera el objeto de captura de video\n",
    "    captura_video.release()\n",
    "    cv.destroyAllWindows()\n",
    "\n",
    "    return metricas_enfoque, pts"
   ]
  },
  {
   "cell_type": "code",
   "execution_count": null,
   "metadata": {},
   "outputs": [],
   "source": [
    "# Función para calcular la métrica de enfoque de un video\n",
    "def focus_measure_ism_matrix(video_path,matrix):\n",
    "\n",
    "    captura_video = cv.VideoCapture(video_path)\n",
    "\n",
    "    metricas_enfoque = []  # Almacenar métricas de cada frame\n",
    "    \n",
    "    if not captura_video.isOpened():\n",
    "        print(\"Error al abrir el archivo de video\")\n",
    "    else:\n",
    "        # Procesar cada frame del video\n",
    "        \n",
    "        while True:\n",
    "            ret, frame = captura_video.read()\n",
    "            \n",
    "            if not ret:\n",
    "                break\n",
    "\n",
    "            # Convertir a escala de grises\n",
    "            frame_gris = cv.cvtColor(frame, cv.COLOR_BGR2GRAY)\n",
    "            \n",
    "            m_points,rect_imgs = getMatrix(frame_gris, matrix['rect'], matrix['dim'], matrix['sep'])\n",
    "           \n",
    "            # Calcular la métrica de enfoque para cada rectangulo\n",
    "            fmrect = []\n",
    "            for rect in rect_imgs: fmrect.append(getISM(rect))\n",
    "\n",
    "            # Calcular la métrica de enfoque para cada matriz\n",
    "            metricas_enfoque.append(np.mean(fmrect))\n",
    "\n",
    "    # Libera el objeto de captura de video\n",
    "    captura_video.release()\n",
    "    cv.destroyAllWindows()\n",
    "\n",
    "    return metricas_enfoque, m_points"
   ]
  },
  {
   "cell_type": "code",
   "execution_count": null,
   "metadata": {},
   "outputs": [],
   "source": [
    "def focus_measure_lap4_matrix(video_path,matrix,window_size):\n",
    "\n",
    "    captura_video = cv.VideoCapture(video_path)\n",
    "\n",
    "    metricas_enfoque = []  # Almacenar métricas de cada frame\n",
    "    \n",
    "    if not captura_video.isOpened():\n",
    "        print(\"Error al abrir el archivo de video\")\n",
    "    else:\n",
    "        # Procesar cada frame del video\n",
    "        \n",
    "        while True:\n",
    "            ret, frame = captura_video.read()\n",
    "            \n",
    "            if not ret:\n",
    "                break\n",
    "\n",
    "            # Convertir a escala de grises\n",
    "            frame_gris = cv.cvtColor(frame, cv.COLOR_BGR2GRAY)\n",
    "            \n",
    "            m_points,rect_imgs = getMatrix(frame_gris, matrix['rect'], matrix['dim'], matrix['sep'])\n",
    "           \n",
    "            # Calcular la métrica de enfoque para cada rectangulo\n",
    "            fmrect = []\n",
    "            for rect in rect_imgs: fmrect.append(getLap4(rect,window_size))\n",
    "\n",
    "            # Calcular la métrica de enfoque para cada matriz\n",
    "            metricas_enfoque.append(np.mean(fmrect))\n",
    "\n",
    "    # Libera el objeto de captura de video\n",
    "    captura_video.release()\n",
    "    cv.destroyAllWindows()\n",
    "\n",
    "    return metricas_enfoque, m_points"
   ]
  },
  {
   "cell_type": "code",
   "execution_count": null,
   "metadata": {},
   "outputs": [],
   "source": [
    "def showVideo(path,title,pts,lista):\n",
    "    \"\"\"\n",
    "    Muestra el video\n",
    "    incluyendo la señalización indicada\n",
    "    en las propiedades\n",
    "    \"\"\"\n",
    "    \n",
    "    try:    \n",
    "        video_capture = cv.VideoCapture(path)\n",
    "        timer=0\n",
    "        \n",
    "        if not video_capture.isOpened():\n",
    "            print(\"Error al abrir el archivo de video\")\n",
    "        else:\n",
    "            # tasa de cuadros (frame rate) del video\n",
    "            fps = int(video_capture.get(cv.CAP_PROP_FPS))\n",
    "            normal_delay = int(1000 / fps)\n",
    "            delay = normal_delay    \n",
    "            \n",
    "            i=0\n",
    "            \n",
    "            while True:\n",
    "                ret, frame = video_capture.read()\n",
    "                if not ret:\n",
    "                    break\n",
    "              \n",
    "                \n",
    "                if lista[i]:\n",
    "                    color= (0, 255, 0)\n",
    "                    delay = normal_delay * 5\n",
    "                else:\n",
    "                    color = (0, 0, 255)\n",
    "                  \n",
    "                    delay = normal_delay\n",
    "\n",
    "\n",
    "                # Imprime frame original sin alterar por default\n",
    "                new_frame = frame\n",
    "\n",
    "                # Agrega modificaciones al frame según los parámetros de entrada\n",
    "                drawFrameNum(new_frame, i, color, 1)\n",
    "\n",
    "                drawRectangle(new_frame, pts[0], pts[1], color, 2)\n",
    "\n",
    "                cv.imshow(title, new_frame)\n",
    "                \n",
    "                i = i + 1\n",
    "                # Salir del loop si se presiona la tecla 'q'\n",
    "                if cv.waitKey(delay) & 0xFF == ord('q'):\n",
    "                    break\n",
    "    finally:    \n",
    "        # Liberar recursos\n",
    "        video_capture.release()\n",
    "        cv.destroyAllWindows()"
   ]
  },
  {
   "cell_type": "code",
   "execution_count": null,
   "metadata": {},
   "outputs": [],
   "source": [
    "def showVideoMatrix(path,title,pts,lista):\n",
    "    \"\"\"\n",
    "    Muestra el video\n",
    "    incluyendo la señalización indicada\n",
    "    en las propiedades\n",
    "    \"\"\"\n",
    "    \n",
    "    try:    \n",
    "        video_capture = cv.VideoCapture(path)\n",
    "        timer=0\n",
    "        \n",
    "        if not video_capture.isOpened():\n",
    "            print(\"Error al abrir el archivo de video\")\n",
    "        else:\n",
    "            # tasa de cuadros (frame rate) del video\n",
    "            fps = int(video_capture.get(cv.CAP_PROP_FPS))\n",
    "            normal_delay = int(1000 / fps)\n",
    "            delay = normal_delay    \n",
    "            \n",
    "            i=0\n",
    "            \n",
    "            while True:\n",
    "                ret, frame = video_capture.read()\n",
    "                if not ret:\n",
    "                    break\n",
    "              \n",
    "                \n",
    "                if lista[i]:\n",
    "                    color= (0, 255, 0)\n",
    "                    delay = normal_delay * 5\n",
    "                else:\n",
    "                    color = (0, 0, 255)\n",
    "                  \n",
    "                    delay = normal_delay\n",
    "\n",
    "\n",
    "                # Imprime frame original sin alterar por default\n",
    "                new_frame = frame\n",
    "\n",
    "                # Agrega modificaciones al frame según los parámetros de entrada\n",
    "                drawFrameNum(new_frame, i, color, 1)\n",
    "\n",
    "                drawMatrix(new_frame, pts, color, 2)\n",
    "\n",
    "                cv.imshow(title, new_frame)\n",
    "                \n",
    "                i = i + 1\n",
    "                # Salir del loop si se presiona la tecla 'q'\n",
    "                if cv.waitKey(delay) & 0xFF == ord('q'):\n",
    "                    break\n",
    "    finally:    \n",
    "        # Liberar recursos\n",
    "        video_capture.release()\n",
    "        cv.destroyAllWindows()"
   ]
  },
  {
   "cell_type": "code",
   "execution_count": null,
   "metadata": {},
   "outputs": [],
   "source": [
    "def process_video_ism(video_path, roi_fraction=0.1, percentile=90):\n",
    "    \n",
    "    # Calcular la métrica de enfoque\n",
    "    metricas_enfoque,pts = focus_measure_ism(video_path, roi_fraction)\n",
    "\n",
    "    if roi_fraction==1:\n",
    "          title= f'ISM sobre todo el Frames' \n",
    "    else: title= f'ISM sobre ROI {roi_fraction*100}% area'\n",
    "\n",
    "    # Mostrar las métricas de enfoque\n",
    "    showMetric(metricas_enfoque, percentile,title,'ISM')\n",
    "\n",
    "    foco = [ m >= np.percentile(metricas_enfoque, percentile) for m in metricas_enfoque]\n",
    "\n",
    "    showVideo(video_path,title,pts,foco)\n",
    "    "
   ]
  },
  {
   "cell_type": "code",
   "execution_count": null,
   "metadata": {},
   "outputs": [],
   "source": [
    "def process_video_matrix_ism(video_path, matrix, percentile=90):\n",
    "    \n",
    "    # Calcular la métrica de enfoque\n",
    "    metricas_enfoque,pts = focus_measure_ism_matrix(video_path, matrix)\n",
    "   \n",
    "    title= f\"ISM sobre Matrix {matrix['dim'][0]} x {matrix['dim'][1]}\"\n",
    "\n",
    "    # Mostrar las métricas de enfoque\n",
    "    showMetric(metricas_enfoque,percentile,title,'ISM')\n",
    "\n",
    "    enfoco = [ m >= np.percentile(metricas_enfoque, percentile) for m in metricas_enfoque]\n",
    "\n",
    "    showVideoMatrix(video_path,title,pts,enfoco)\n",
    "   "
   ]
  },
  {
   "cell_type": "code",
   "execution_count": null,
   "metadata": {},
   "outputs": [],
   "source": [
    "def process_video_lap4(video_path, roi_fraction=0.1, percentile=90,window_size=3):\n",
    "    \n",
    "    # Calcular la métrica de enfoque\n",
    "    metricas_enfoque,pts = focus_measure_lap4(video_path,window_size, roi_fraction)\n",
    "\n",
    "    if roi_fraction==1:\n",
    "          title= f'LAP4 sobre todo el frame' \n",
    "    else: title= f'LAP4 sobre ROI {roi_fraction*100}% area'\n",
    "\n",
    "    # Mostrar las métricas de enfoque\n",
    "    showMetric(metricas_enfoque, percentile,title,'LAP4')\n",
    "\n",
    "    enfoco = [ m >= np.percentile(metricas_enfoque, percentile) for m in metricas_enfoque]\n",
    "\n",
    "    showVideo(video_path,title,pts,enfoco)"
   ]
  },
  {
   "cell_type": "code",
   "execution_count": null,
   "metadata": {},
   "outputs": [],
   "source": [
    "def process_video_matrix_lap4(video_path, matrix, percentile=90,window_size=3):\n",
    "    \n",
    "    # Calcular la métrica de enfoque\n",
    "    metricas_enfoque,pts = focus_measure_lap4_matrix(video_path, matrix,window_size)\n",
    "   \n",
    "    title= f\"LAP4 sobre Matrix {matrix['dim'][0]} x {matrix['dim'][1]}\"\n",
    "\n",
    "    # Mostrar las métricas de enfoque\n",
    "    showMetric(metricas_enfoque,percentile,title,'LAP4')\n",
    "\n",
    "    enfoco = [ m >= np.percentile(metricas_enfoque, percentile) for m in metricas_enfoque]\n",
    "\n",
    "    showVideoMatrix(video_path,title,pts,enfoco)"
   ]
  },
  {
   "cell_type": "code",
   "execution_count": null,
   "metadata": {},
   "outputs": [],
   "source": []
  },
  {
   "cell_type": "markdown",
   "metadata": {},
   "source": [
    "## **Objetivo**\n",
    "Implementar un detector de máximo enfoque sobre un video aplicando técnicas de análisis espectral similar al que utilizan las\n",
    "cámaras digitales modernas. El video a procesar será: “focus_video.mov”."
   ]
  },
  {
   "cell_type": "markdown",
   "metadata": {
    "id": "8FVEtcF93JWf"
   },
   "source": [
    "\n",
    "\n",
    "2. Cambiar la métrica de enfoque eligiendo uno de los algoritmos explicados en el apéndice de: Analysis of focus measure\n",
    "operators in shapefrom focus.\n",
    "1. Medicion de foco en toda la imagen\n",
    "El algoritmo de detección a implementar debe detectar y devolver los puntos de máximo enfoque de manera\n",
    "automática."
   ]
  },
  {
   "cell_type": "markdown",
   "metadata": {},
   "source": [
    "### 1. Se debe implementar un algoritmo que dada una imagen, o región, calcule la métrica propuesta en el paper \"Image Sharpness Measure for Blurred Images in Frequency Domain“ y realizar tres experimentos. Para cada experimento se debe presentar :\n",
    "- Una curva o varias curvas que muestren la evolución de la métrica frame a frame donde se vea claramente cuando el algoritmo detecto el punto\n",
    "de máximo enfoque.\n",
    "- Video con la ROI o matriz, graficada en rojo y superpuesta al video original para los frames que no están en foco y verde para los frames\n",
    "donde se detecta la condición de máximo enfoque."
   ]
  },
  {
   "cell_type": "markdown",
   "metadata": {},
   "source": [
    "##### 1.1 - Medición sobre todo el frame."
   ]
  },
  {
   "cell_type": "code",
   "execution_count": null,
   "metadata": {
    "id": "y17DSxHuNILt"
   },
   "outputs": [],
   "source": [
    "# Abre el video\n",
    "video_path = './focus_video.mov'"
   ]
  },
  {
   "cell_type": "code",
   "execution_count": null,
   "metadata": {},
   "outputs": [],
   "source": [
    "#Medicion ISM sobre todo el Frame con percentil 90% para máximo enfoque.\n",
    "process_video_ism(video_path,1,90)"
   ]
  },
  {
   "cell_type": "markdown",
   "metadata": {},
   "source": [
    "\n",
    "##### 1.2 - Medición sobre una ROI ubicada en el centro del frame. Area de la ROI = 5 o 10% del area total del frame."
   ]
  },
  {
   "cell_type": "code",
   "execution_count": null,
   "metadata": {},
   "outputs": [],
   "source": [
    "# Medicion ISM sobre una ROI del 10% con percentil 90% para máximo enfoque.\n",
    "process_video_ism(video_path,0.1,90)"
   ]
  },
  {
   "cell_type": "code",
   "execution_count": null,
   "metadata": {},
   "outputs": [],
   "source": [
    "# Medicion ISM sobre una ROI del 5% con percentil 90% para máximo enfoque.\n",
    "process_video_ism(video_path,0.05,90)"
   ]
  },
  {
   "cell_type": "markdown",
   "metadata": {},
   "source": [
    "##### 1.3 Medición sobre una matriz de enfoque compuesta por un arreglo de NxM elementos rectangulares equiespaciados.                  N y M son valores arbitrarios, probar con varios valores 3x3, 7x5, etc ... (al menos 3) "
   ]
  },
  {
   "cell_type": "code",
   "execution_count": 1,
   "metadata": {},
   "outputs": [],
   "source": [
    "# Set de matrices para probar el enfoque\n",
    "# 'rect: Dimensiones de los rectangulos equiespaciados (ancho y alto)\n",
    "#  dim:  Dimensiones de la matriz (filas y Columnas)\n",
    "#  sep:  Separación entre rectángulos de la matriz\n",
    "\n",
    "mats = [{ 'rect': (10, 15), 'dim': (5, 7), 'sep': 10 },\n",
    "        { 'rect': (50, 50), 'dim': (3, 3), 'sep': 10 },\n",
    "        { 'rect': (20, 30), 'dim': (4, 5), 'sep': 20 },\n",
    "        { 'rect': (30, 30), 'dim': (7, 5), 'sep': 10 }]"
   ]
  },
  {
   "cell_type": "code",
   "execution_count": null,
   "metadata": {},
   "outputs": [],
   "source": [
    "#Medicion ISM sobre una matriz de 5x7 con percentil 90% para máximo enfoque.\n",
    "process_video_matrix_ism(video_path,mats[0],90)"
   ]
  },
  {
   "cell_type": "code",
   "execution_count": null,
   "metadata": {},
   "outputs": [],
   "source": [
    "#Medicion ISM sobre una matriz de 3x3 con percentil 90% para máximo enfoque.\n",
    "process_video_matrix_ism(video_path,mats[1],90)"
   ]
  },
  {
   "cell_type": "code",
   "execution_count": null,
   "metadata": {},
   "outputs": [],
   "source": [
    "#Medicion ISM sobre una matriz de 4x5 con percentil 90% para máximo enfoque.\n",
    "process_video_matrix_ism(video_path,mats[2],90)"
   ]
  },
  {
   "cell_type": "markdown",
   "metadata": {},
   "source": [
    "### 2. Cambiar la métrica de enfoque eligiendo uno de los algoritmos explicados en el apéndice de: Analysis of focus measure operators in shapefrom focus."
   ]
  },
  {
   "cell_type": "markdown",
   "metadata": {},
   "source": [
    "Seleccionamos la medida de enfoque LAP4 (varianza del Laplaciano)"
   ]
  },
  {
   "cell_type": "markdown",
   "metadata": {},
   "source": [
    "#### 2.1 Medicion sobre todo el frame"
   ]
  },
  {
   "cell_type": "code",
   "execution_count": null,
   "metadata": {},
   "outputs": [],
   "source": [
    "#Medicion LAP4 sobre todo el Frame con percentil 90% para máximo enfoque.\n",
    "process_video_lap4(video_path,1,90,21)"
   ]
  },
  {
   "cell_type": "markdown",
   "metadata": {},
   "source": [
    "#### 2.2 Medicion sobre una ROI"
   ]
  },
  {
   "cell_type": "code",
   "execution_count": null,
   "metadata": {},
   "outputs": [],
   "source": [
    "#Medicion LAP4 sobre una ROI de 5% Area con percentil 90% para máximo enfoque.\n",
    "process_video_lap4(video_path,0.05,90,21)"
   ]
  },
  {
   "cell_type": "code",
   "execution_count": null,
   "metadata": {},
   "outputs": [],
   "source": [
    "#Medicion de LAP sobre una ROI 10% Area con percentil 90% para máximo enfoque.\n",
    "process_video_lap4(video_path,0.1,90,21)"
   ]
  },
  {
   "cell_type": "markdown",
   "metadata": {},
   "source": [
    "#### 2.3 Medicion sobre una matriz"
   ]
  },
  {
   "cell_type": "code",
   "execution_count": null,
   "metadata": {},
   "outputs": [],
   "source": [
    "#Medicion LAP4 sobre una matriz de 5x7 con percentil 90% para máximo enfoque.\n",
    "process_video_matrix_lap4(video_path,mats[0],90,21)"
   ]
  },
  {
   "cell_type": "code",
   "execution_count": null,
   "metadata": {},
   "outputs": [],
   "source": [
    "#Medicion LAP4 sobre una matriz de 3x3 con percentil 90% para máximo enfoque.\n",
    "process_video_matrix_lap4(video_path,mats[1],90,21)"
   ]
  },
  {
   "cell_type": "code",
   "execution_count": null,
   "metadata": {},
   "outputs": [],
   "source": [
    "#MEdicion LAP4 sobre una matriz de 4x5 con percentil 90% para máximo enfoque.\n",
    "process_video_matrix_lap4(video_path,mats[2],90,21)"
   ]
  },
  {
   "cell_type": "markdown",
   "metadata": {},
   "source": [
    "### 3. Aplicar unsharp masking para expandir la zona de enfoque y devolver."
   ]
  },
  {
   "cell_type": "code",
   "execution_count": null,
   "metadata": {},
   "outputs": [],
   "source": [
    "#TODO: Implementar"
   ]
  }
 ],
 "metadata": {
  "colab": {
   "provenance": []
  },
  "kernelspec": {
   "display_name": "base",
   "language": "python",
   "name": "python3"
  },
  "language_info": {
   "codemirror_mode": {
    "name": "ipython",
    "version": 3
   },
   "file_extension": ".py",
   "mimetype": "text/x-python",
   "name": "python",
   "nbconvert_exporter": "python",
   "pygments_lexer": "ipython3",
   "version": "3.11.7"
  }
 },
 "nbformat": 4,
 "nbformat_minor": 0
}
